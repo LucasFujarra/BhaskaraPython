{
  "nbformat": 4,
  "nbformat_minor": 0,
  "metadata": {
    "colab": {
      "provenance": [],
      "authorship_tag": "ABX9TyPT4lMVlzPvN8yrGKEnraTR",
      "include_colab_link": true
    },
    "kernelspec": {
      "name": "python3",
      "display_name": "Python 3"
    },
    "language_info": {
      "name": "python"
    }
  },
  "cells": [
    {
      "cell_type": "markdown",
      "metadata": {
        "id": "view-in-github",
        "colab_type": "text"
      },
      "source": [
        "<a href=\"https://colab.research.google.com/github/LucasFujarra/BhaskaraPython/blob/main/Bhaskara.ipynb\" target=\"_parent\"><img src=\"https://colab.research.google.com/assets/colab-badge.svg\" alt=\"Open In Colab\"/></a>"
      ]
    },
    {
      "cell_type": "code",
      "source": [
        "import time\n",
        "from IPython.display import clear_output\n",
        "\n",
        "print(\"△ Bhaskara em Python\\n X=(-b±√(b²-4.a.c))/2a\")\n",
        "time.sleep(4)\n",
        "clear_output()\n",
        "\n",
        "a = float(input(\"Digite o valor de A: \"))\n",
        "b = float(input(\"Digite o valor de B: \"))\n",
        "c = float(input(\"Digite o valor de C: \"))\n",
        "clear_output()\n",
        "print (f\"A: {a} B: {b} C: {c}\")\n",
        "\n",
        "delta = (b**2) - (4*a*c)\n",
        "print(f\"O valor de Delta é: {delta}\")\n",
        "\n",
        "if delta < 0:\n",
        "    print(\"A equação não possui raízes reais\")\n",
        "elif delta == 0:\n",
        "    x = -b / (2*a)\n",
        "    print(f\"A equação possui apenas uma raiz real:{x}\")\n",
        "else :\n",
        "  x1 = (-b + delta**0.5) / (2*a)\n",
        "  x2 = (-b - delta**0.5) / (2*a)\n",
        "  print(f\"A equação possui duas raízes reais:\\n-Primeira Raiz: {x1}\\n-Segunda Raiz:{x2} \")\n"
      ],
      "metadata": {
        "id": "omY2c2HkhDWg"
      },
      "execution_count": null,
      "outputs": []
    }
  ]
}